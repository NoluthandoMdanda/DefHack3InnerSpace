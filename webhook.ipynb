{
 "cells": [
  {
   "cell_type": "code",
   "execution_count": null,
   "metadata": {},
   "outputs": [],
   "source": [
    "# Only need to do this once...\n",
    "!pip install flask"
   ]
  },
  {
   "cell_type": "code",
   "execution_count": 31,
   "metadata": {},
   "outputs": [],
   "source": [
    "import json\n",
    "import re\n",
    "from flask import Flask, request, jsonify, make_response\n",
    "\n",
    "from google.cloud import datastore\n",
    "from functools import wraps"
   ]
  },
  {
   "cell_type": "code",
   "execution_count": null,
   "metadata": {},
   "outputs": [
    {
     "name": "stderr",
     "output_type": "stream",
     "text": [
      " * Running on http://0.0.0.0:5000/ (Press CTRL+C to quit)\n"
     ]
    },
    {
     "name": "stdout",
     "output_type": "stream",
     "text": [
      "Request:\n",
      "{\n",
      "    \"queryResult\": {\n",
      "        \"fulfillmentMessages\": [\n",
      "            {\n",
      "                \"text\": {\n",
      "                    \"text\": [\n",
      "                        \"\"\n",
      "                    ]\n",
      "                }\n",
      "            }\n",
      "        ], \n",
      "        \"allRequiredParamsPresent\": true, \n",
      "        \"parameters\": {\n",
      "            \"topic\": \"cold hands\"\n",
      "        }, \n",
      "        \"languageCode\": \"en\", \n",
      "        \"intentDetectionConfidence\": 1.0, \n",
      "        \"action\": \"lookup\", \n",
      "        \"intent\": {\n",
      "            \"displayName\": \"Topic\", \n",
      "            \"name\": \"projects/innerspacev2/agent/intents/00597447-552b-4f6c-8693-92d79e61328c\"\n",
      "        }, \n",
      "        \"queryText\": \"Why do I have cold hands?\", \n",
      "        \"outputContexts\": [\n",
      "            {\n",
      "                \"name\": \"projects/innerspacev2/agent/sessions/39383996-b204-7309-3b49-58fe15804114/contexts/__system_counters__\", \n",
      "                \"parameters\": {\n",
      "                    \"topic\": \"cold hands\", \n",
      "                    \"topic.original\": \"cold hands\", \n",
      "                    \"no-match\": 0.0, \n",
      "                    \"no-input\": 0.0\n",
      "                }\n",
      "            }\n",
      "        ], \n",
      "        \"sentimentAnalysisResult\": {\n",
      "            \"queryTextSentiment\": {\n",
      "                \"score\": -0.6, \n",
      "                \"magnitude\": 0.6\n",
      "            }\n",
      "        }\n",
      "    }, \n",
      "    \"originalDetectIntentRequest\": {\n",
      "        \"source\": \"DIALOGFLOW_CONSOLE\", \n",
      "        \"payload\": {}\n",
      "    }, \n",
      "    \"session\": \"projects/innerspacev2/agent/sessions/39383996-b204-7309-3b49-58fe15804114\", \n",
      "    \"responseId\": \"25131e01-3a16-4ddc-b14c-a2488447d71f-c1c4ad2e\"\n",
      "}\n",
      "cold hands\n"
     ]
    },
    {
     "name": "stderr",
     "output_type": "stream",
     "text": [
      "127.0.0.1 - - [27/Jun/2021 13:35:56] \"\u001b[37mPOST /webhook/ HTTP/1.1\u001b[0m\" 200 -\n"
     ]
    },
    {
     "name": "stdout",
     "output_type": "stream",
     "text": [
      "cold hands\n",
      "Cold hands may be caused by simply being in a cold room or other chilly environment. Cold hands are often a sign that your body is trying to maintain its normal body temperature. Always having cold hands, however, could mean there's a problem with your blood flow or the blood vessels in your hands.\n",
      "\n",
      "{\n",
      "    \"fulfillmentText\": \"Cold hands may be caused by simply being in a cold room or other chilly environment. Cold hands are often a sign that your body is trying to maintain its normal body temperature. Always having cold hands, however, could mean there's a problem with your blood flow or the blood vessels in your hands.\\n\"\n",
      "}\n"
     ]
    },
    {
     "name": "stderr",
     "output_type": "stream",
     "text": [
      "127.0.0.1 - - [27/Jun/2021 13:36:56] \"\u001b[37mPOST /webhook/ HTTP/1.1\u001b[0m\" 200 -\n"
     ]
    },
    {
     "name": "stdout",
     "output_type": "stream",
     "text": [
      "Request:\n",
      "{\n",
      "    \"queryResult\": {\n",
      "        \"fulfillmentMessages\": [\n",
      "            {\n",
      "                \"text\": {\n",
      "                    \"text\": [\n",
      "                        \"\"\n",
      "                    ]\n",
      "                }\n",
      "            }\n",
      "        ], \n",
      "        \"allRequiredParamsPresent\": true, \n",
      "        \"parameters\": {\n",
      "            \"topic\": \"cold hands\"\n",
      "        }, \n",
      "        \"languageCode\": \"en\", \n",
      "        \"intentDetectionConfidence\": 1.0, \n",
      "        \"action\": \"lookup\", \n",
      "        \"intent\": {\n",
      "            \"displayName\": \"Topic\", \n",
      "            \"name\": \"projects/innerspacev2/agent/intents/00597447-552b-4f6c-8693-92d79e61328c\"\n",
      "        }, \n",
      "        \"queryText\": \"Why do I have cold hands?\", \n",
      "        \"outputContexts\": [\n",
      "            {\n",
      "                \"name\": \"projects/innerspacev2/agent/sessions/webdemo-280a1547-3801-1140-1927-58391a360fb8/contexts/__system_counters__\", \n",
      "                \"parameters\": {\n",
      "                    \"topic\": \"cold hands\", \n",
      "                    \"topic.original\": \"cold hands\", \n",
      "                    \"no-match\": 0.0, \n",
      "                    \"no-input\": 0.0\n",
      "                }\n",
      "            }\n",
      "        ]\n",
      "    }, \n",
      "    \"originalDetectIntentRequest\": {\n",
      "        \"payload\": {}\n",
      "    }, \n",
      "    \"session\": \"projects/innerspacev2/agent/sessions/webdemo-280a1547-3801-1140-1927-58391a360fb8\", \n",
      "    \"responseId\": \"fb3223b9-2f4a-4611-8051-321d074bb299-c1c4ad2e\"\n",
      "}\n",
      "cold hands\n",
      "cold hands\n",
      "Cold hands may be caused by simply being in a cold room or other chilly environment. Cold hands are often a sign that your body is trying to maintain its normal body temperature. Always having cold hands, however, could mean there's a problem with your blood flow or the blood vessels in your hands.\n",
      "\n",
      "{\n",
      "    \"fulfillmentText\": \"Cold hands may be caused by simply being in a cold room or other chilly environment. Cold hands are often a sign that your body is trying to maintain its normal body temperature. Always having cold hands, however, could mean there's a problem with your blood flow or the blood vessels in your hands.\\n\"\n",
      "}\n"
     ]
    }
   ],
   "source": [
    "app = Flask(__name__)\n",
    "\n",
    "\n",
    "@app.route('/webhook/', methods=['POST'])\n",
    "def handle():\n",
    "    req = request.get_json(silent=True, force=True)\n",
    "    print 'Request:'\n",
    "    print(json.dumps(req, indent=4))\n",
    "    if req.get('queryResult').get('action') != 'lookup':\n",
    "        return {}\n",
    "    topic = req.get('queryResult').get('parameters').get('topic')\n",
    "    topic = re.sub(r'[^\\w\\s]', '', topic)\n",
    "    print topic\n",
    "    rsp = getResponse(topic)\n",
    "    rsp = json.dumps(rsp, indent=4)\n",
    "    print rsp\n",
    "    r = make_response(rsp)\n",
    "    r.headers['Content-Type'] = 'application/json'\n",
    "    return r\n",
    "\n",
    "def getResponse(topic):\n",
    "    \n",
    "    client = datastore.Client()\n",
    "    query = client.query(kind='Synonym')\n",
    "    key = client.key('Synonym', topic)\n",
    "    query.key_filter(key, '=')\n",
    "    results = list(query.fetch())\n",
    "    \n",
    "    if len(results) == 0:\n",
    "        return buildReply('I can\\'t find that in the handbook...')\n",
    "    \n",
    "    print results[0]['synonym']\n",
    "    \n",
    "    query = client.query(kind='Topic')\n",
    "    key = client.key('Topic', results[0]['synonym'])\n",
    "    query.key_filter(key, '=')\n",
    "    results = list(query.fetch())\n",
    "    \n",
    "    print results[0]['action_text']\n",
    "    \n",
    "    return buildReply(results[0]['action_text'])\n",
    "\n",
    "def buildReply(info):\n",
    "    return {\n",
    "        'fulfillmentText': info,\n",
    "    }\n",
    "\n",
    "if __name__ == '__main__':\n",
    "    app.run(host='0.0.0.0')"
   ]
  },
  {
   "cell_type": "code",
   "execution_count": null,
   "metadata": {},
   "outputs": [],
   "source": []
  }
 ],
 "metadata": {
  "kernelspec": {
   "display_name": "Python 2",
   "language": "python",
   "name": "python2"
  },
  "language_info": {
   "codemirror_mode": {
    "name": "ipython",
    "version": 2
   },
   "file_extension": ".py",
   "mimetype": "text/x-python",
   "name": "python",
   "nbconvert_exporter": "python",
   "pygments_lexer": "ipython2",
   "version": "2.7.18"
  }
 },
 "nbformat": 4,
 "nbformat_minor": 2
}
