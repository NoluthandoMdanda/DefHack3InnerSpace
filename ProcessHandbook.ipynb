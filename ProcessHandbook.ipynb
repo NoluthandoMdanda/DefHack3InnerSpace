{
 "cells": [
  {
   "cell_type": "markdown",
   "metadata": {},
   "source": [
    "# Process Handbook"
   ]
  },
  {
   "cell_type": "markdown",
   "metadata": {},
   "source": [
    "This notebook processes the example handbook (CAHRC_HR_Manual.txt).  This is done in a simple fashion using the following heuristic: If a line of text consisting of less than 5 words is followed by paragraphs of text the assume the line of text with less than 5 words is a topic (i.e. the topic of a question an employee might ask) and that the paragraphs of text are the answer to that question (called action_text for the lack of a better term).\n",
    "\n",
    "When a topic and action_text are found these are stored in Cloud Datastore as a key-value pair with the topic as the key and the action_text as the value."
   ]
  },
  {
   "cell_type": "code",
   "execution_count": 4,
   "metadata": {},
   "outputs": [
    {
     "name": "stdout",
     "output_type": "stream",
     "text": [
      "Uninstalling google-cloud-datastore-1.15.3:\n",
      "  Successfully uninstalled google-cloud-datastore-1.15.3\n"
     ]
    }
   ],
   "source": [
    "!pip uninstall -y google-cloud-datastore"
   ]
  },
  {
   "cell_type": "code",
   "execution_count": 5,
   "metadata": {},
   "outputs": [
    {
     "name": "stdout",
     "output_type": "stream",
     "text": [
      "Collecting google-cloud-datastore\n",
      "  Using cached https://files.pythonhosted.org/packages/b8/6c/bedcab39e8dc969f7a48d058dbacd69fc07ce3f817a03de875902016f667/google_cloud_datastore-1.15.3-py2.py3-none-any.whl\n",
      "Requirement already satisfied: google-cloud-core<2.0dev,>=1.4.0 in /usr/local/envs/py2env/lib/python2.7/site-packages (from google-cloud-datastore) (1.7.1)\n",
      "Requirement already satisfied: google-api-core[grpc]<2.0.0dev,>=1.14.0 in /usr/local/envs/py2env/lib/python2.7/site-packages (from google-cloud-datastore) (1.22.2)\n",
      "Requirement already satisfied: six>=1.12.0 in /usr/local/envs/py2env/lib/python2.7/site-packages (from google-cloud-core<2.0dev,>=1.4.0->google-cloud-datastore) (1.16.0)\n",
      "Requirement already satisfied: google-auth<2.0dev,>=1.24.0 in /usr/local/envs/py2env/lib/python2.7/site-packages (from google-cloud-core<2.0dev,>=1.4.0->google-cloud-datastore) (1.32.0)\n",
      "Requirement already satisfied: googleapis-common-protos<2.0dev,>=1.6.0 in /usr/local/envs/py2env/lib/python2.7/site-packages (from google-api-core[grpc]<2.0.0dev,>=1.14.0->google-cloud-datastore) (1.6.0)\n",
      "Requirement already satisfied: protobuf>=3.12.0 in /usr/local/envs/py2env/lib/python2.7/site-packages (from google-api-core[grpc]<2.0.0dev,>=1.14.0->google-cloud-datastore) (3.13.0)\n",
      "Requirement already satisfied: futures>=3.2.0; python_version < \"3.2\" in /usr/local/envs/py2env/lib/python2.7/site-packages (from google-api-core[grpc]<2.0.0dev,>=1.14.0->google-cloud-datastore) (3.2.0)\n",
      "Requirement already satisfied: pytz in /usr/local/envs/py2env/lib/python2.7/site-packages (from google-api-core[grpc]<2.0.0dev,>=1.14.0->google-cloud-datastore) (2018.4)\n",
      "Requirement already satisfied: setuptools>=34.0.0 in /usr/local/envs/py2env/lib/python2.7/site-packages (from google-api-core[grpc]<2.0.0dev,>=1.14.0->google-cloud-datastore) (44.0.0.post20200106)\n",
      "Requirement already satisfied: requests<3.0.0dev,>=2.18.0 in /usr/local/envs/py2env/lib/python2.7/site-packages (from google-api-core[grpc]<2.0.0dev,>=1.14.0->google-cloud-datastore) (2.18.4)\n",
      "Requirement already satisfied: grpcio<2.0dev,>=1.29.0; extra == \"grpc\" in /usr/local/envs/py2env/lib/python2.7/site-packages (from google-api-core[grpc]<2.0.0dev,>=1.14.0->google-cloud-datastore) (1.31.0)\n",
      "Requirement already satisfied: pyasn1-modules>=0.2.1 in /usr/local/envs/py2env/lib/python2.7/site-packages (from google-auth<2.0dev,>=1.24.0->google-cloud-core<2.0dev,>=1.4.0->google-cloud-datastore) (0.2.7)\n",
      "Requirement already satisfied: cachetools<5.0,>=2.0.0 in /usr/local/envs/py2env/lib/python2.7/site-packages (from google-auth<2.0dev,>=1.24.0->google-cloud-core<2.0dev,>=1.4.0->google-cloud-datastore) (3.1.1)\n",
      "Requirement already satisfied: rsa<4.6; python_version < \"3.6\" in /usr/local/envs/py2env/lib/python2.7/site-packages (from google-auth<2.0dev,>=1.24.0->google-cloud-core<2.0dev,>=1.4.0->google-cloud-datastore) (4.0)\n",
      "Requirement already satisfied: chardet<3.1.0,>=3.0.2 in /usr/local/envs/py2env/lib/python2.7/site-packages (from requests<3.0.0dev,>=2.18.0->google-api-core[grpc]<2.0.0dev,>=1.14.0->google-cloud-datastore) (3.0.4)\n",
      "Requirement already satisfied: idna<2.7,>=2.5 in /usr/local/envs/py2env/lib/python2.7/site-packages (from requests<3.0.0dev,>=2.18.0->google-api-core[grpc]<2.0.0dev,>=1.14.0->google-cloud-datastore) (2.6)\n",
      "Requirement already satisfied: urllib3<1.23,>=1.21.1 in /usr/local/envs/py2env/lib/python2.7/site-packages (from requests<3.0.0dev,>=2.18.0->google-api-core[grpc]<2.0.0dev,>=1.14.0->google-cloud-datastore) (1.22)\n",
      "Requirement already satisfied: certifi>=2017.4.17 in /usr/local/envs/py2env/lib/python2.7/site-packages (from requests<3.0.0dev,>=2.18.0->google-api-core[grpc]<2.0.0dev,>=1.14.0->google-cloud-datastore) (2019.11.28)\n",
      "Requirement already satisfied: enum34>=1.0.4 in /usr/local/envs/py2env/lib/python2.7/site-packages (from grpcio<2.0dev,>=1.29.0; extra == \"grpc\"->google-api-core[grpc]<2.0.0dev,>=1.14.0->google-cloud-datastore) (1.1.6)\n",
      "Requirement already satisfied: pyasn1<0.5.0,>=0.4.6 in /usr/local/envs/py2env/lib/python2.7/site-packages (from pyasn1-modules>=0.2.1->google-auth<2.0dev,>=1.24.0->google-cloud-core<2.0dev,>=1.4.0->google-cloud-datastore) (0.4.8)\n",
      "Installing collected packages: google-cloud-datastore\n",
      "Successfully installed google-cloud-datastore-1.15.3\n"
     ]
    }
   ],
   "source": [
    "!pip install google-cloud-datastore"
   ]
  },
  {
   "cell_type": "markdown",
   "metadata": {},
   "source": [
    "Hit Reset Session > Restart, then resume with the following cells. "
   ]
  },
  {
   "cell_type": "code",
   "execution_count": 1,
   "metadata": {},
   "outputs": [],
   "source": [
    "from google.cloud import datastore"
   ]
  },
  {
   "cell_type": "code",
   "execution_count": 2,
   "metadata": {},
   "outputs": [],
   "source": [
    "datastore_client = datastore.Client()"
   ]
  },
  {
   "cell_type": "code",
   "execution_count": 6,
   "metadata": {},
   "outputs": [
    {
     "name": "stdout",
     "output_type": "stream",
     "text": [
      "Saved anxiety disorder: A mental health disorder characterized by feelings of worry, anxiety, or fear that are strong enough to interfere with one's daily activities.\n",
      "\n",
      "Saved anxious: Intense, excessive, and persistent worry and fear about everyday situations. Fast heart rate, rapid breathing, sweating, and feeling tired may occur. \n",
      "\n",
      "Saved fear: An unpleasant feeling triggered by the perception of danger, real or imagined \n",
      "\n",
      "Saved healthcare: Health care is the maintenance or improvement of health via the prevention, diagnosis, treatment, recovery, or cure of disease, illness, injury, and other physical and mental impairments in people. Health care is delivered by health professionals and allied health fields.\n",
      "\n",
      "Saved panic disorder: Panic Disorder is an anxiety disorder characterized by unexpected and repeated episodes of intense fear accompanied by physical symptoms that may include chest pain, heart palpitations, shortness of breath, dizziness, or abdominal distress.\n",
      "\n",
      "Saved social anxiety disorder: For people with social anxiety disorder, everyday social interactions cause irrational anxiety, fear, self-consciousness, and embarrassment. Symptoms may include excess fear of situations in which one may be judged, worry about embarrassment or humiliation, or concern about offending someone.  Talk therapy and antidepressants can help increase confidence and improve ability to interact with others.\n",
      "\n",
      "Saved obsessive compulsive disorder: Obsessive-compulsive disorder is characterized by unreasonable thoughts and fears (obsessions) that lead to compulsive behaviors. OCD often centers on themes such as a fear of germs or the need to arrange objects in a specific manner. Symptoms usually begin gradually and vary throughout life. Treatment includes talk therapy, medications, or both.\n",
      "\n",
      "Saved generalized anxiety disorder.: Generalized anxiety disorder can occur at any age. The condition has symptoms similar to panic disorder, obsessive-compulsive disorder, and other types of anxiety. These symptoms include constant worry, restlessness, and trouble with concentration. Treatment may include counseling and medications, such as antidepressants. ::\n",
      "\n",
      "Saved symptoms: a physical or mental feature which is regarded as indicating a condition of disease, particularly such a feature that is apparent to the patient. \n",
      "\n",
      "Saved panic: sudden uncontrollable fear or anxiety, often causing wildly unthinking behavior.\n",
      "\n",
      "Saved cold hands: Cold hands may be caused by simply being in a cold room or other chilly environment. Cold hands are often a sign that your body is trying to maintain its normal body temperature. Always having cold hands, however, could mean there's a problem with your blood flow or the blood vessels in your hands.\n",
      "\n",
      "Saved sweaty: Sweating can have causes that aren't due to underlying disease. Examples include warm temperatures, exercise, stress, or spicy food. \n",
      "\n",
      "Saved tiredness: Fatigue can have causes that aren't due to underlying disease. Examples include lack of sleep, heavy exertion, jetlag, a large meal, or aging. :: nausea: Nausea can have causes that aren't due to underlying disease. Examples include motion such as from a car and plane, taking pills on an empty stomach, eating too much or too little, or drinking too much alcohol.\n",
      "\n",
      "Saved treatment: a session of medical care or the administration of a dose of medicine.\n",
      "\n",
      "Saved cognitive behavioural therapy: a type of psychotherapy in which negative patterns of thought about the self and the world are challenged in order to alter unwanted behavior patterns or treat mood disorders such as depression. \n",
      "\n",
      "Saved relaxation therapy: A type of therapy that helps reduce muscle tension and stress, lowers blood pressure, and controls pain. It may involve tensing and relaxing muscles throughout the body.\n",
      "\n",
      "Saved psychotherapy-talk therapy: Psychotherapy, or talk therapy, is a way to help people with a broad variety of mental illnesses and emotional difficulties. Psychotherapy can help eliminate or control troubling symptoms so a person can function better and can increase well-being and healing.\n",
      "\n",
      "Saved pyschological counselling: Counseling psychologists help people with physical, emotional and mental health issues improve their sense of well‐being, alleviate feelings of distress and resolve crises. ... They also provide assessment, diagnosis, and treatment of more severe psychological symptoms.\n",
      "\n",
      "Saved depression: Depression is a group of conditions associated with the elevation or lowering of a person's mood, such as depression or bipolar disorder.\n",
      "\n",
      "Saved thoughts of death: Thoughts about self-harm, with deliberate consideration or planning of possible techniques of causing one's own death\n",
      "\n",
      "Saved loss of pleasure: Anhedonia is the inability to feel pleasure. It's a common symptom of depression as well as other mental health disorders. Most people understand what pleasure feels like. They expect certain things in life to make them happy.\n",
      "\n",
      "Saved loss of intent: An insufficiency, shortage, or absence of something required or desired. 2 something that is required but is absent or in short supply. \n",
      "\n",
      "Saved no concentration: When you're unable to concentrate, you can't think clearly, focus on a task, or maintain your attention. ... A number of medical conditions may contribute to or cause inability to concentrate. It's not always a medical emergency, but being unable to concentrate can mean you need medical attention.\n",
      "\n",
      "Saved overeating: Overeating is the excess food consumed in relation to the energy that an organism expends (or expels via excretion), leading to weight gaining and often obesity. It may be regarded as an eating disorder. ... Overeating can be a symptom of binge eating disorder or bulimia nervosa.\n",
      "\n",
      "Saved appetite loss: Appetite loss can have causes that aren't due to underlying disease. Examples include aging, nervousness, grief, disgusting sights and smells, or cigarette smoking. \n",
      "\n",
      "Saved creative work: A creative work is a manifestation of creative effort including fine artwork (sculpture, paintings, drawing, sketching, performance art), dance, writing (literature), filmmaking, and composition. \n",
      "\n",
      "Saved avoid stress: Avoiding stress is a matter of not putting yourself into stressful situations. This sounds simple enough—and in some cases, it can be. For example, if you find crowds very stressful, you might choose not to commute to work by public transport at busy times. \n",
      "\n",
      "Saved sport: an activity involving physical exertion and skill in which an individual or team competes against another or others for entertainment. \n",
      "\n",
      "Saved exercise: activity requiring physical effort, carried out to sustain or improve health and fitness. \n",
      "\n",
      "Saved healthy diet: A healthy diet is a diet that helps maintain or improve overall health. A healthy diet provides the body with essential nutrition: fluid, macronutrients, micronutrients, and adequate food energy. \n",
      "\n"
     ]
    }
   ],
   "source": [
    "employee_handbook = open('topic.txt', 'r')\n",
    "while True:\n",
    "  \n",
    "  topic = employee_handbook.readline()\n",
    "  if not(topic):\n",
    "    break\n",
    "  \n",
    "  if (topic != '\\r\\n') and (len(topic.split(' ')) < 6):\n",
    "  \n",
    "    action_text = ''\n",
    "        \n",
    "    last_line = ''\n",
    "    line = employee_handbook.readline()\n",
    "    \n",
    "    while (last_line != '\\r\\n') and (line != '\\r\\n') and (len(line.split(' ')) > 6):\n",
    "      \n",
    "      action_text += line\n",
    "      last_line = line\n",
    "      line = employee_handbook.readline()\n",
    "      \n",
    "    if action_text != '':\n",
    "      \n",
    "      kind = 'Topic'\n",
    "      topic_key = datastore_client.key(kind, topic.strip().lower())\n",
    "\n",
    "      topic = datastore.Entity(key=topic_key)\n",
    "      topic['action_text'] = action_text\n",
    "\n",
    "      datastore_client.put(topic)\n",
    "\n",
    "      print('Saved {}: {}'.format(topic.key.name, topic['action_text']))"
   ]
  },
  {
   "cell_type": "code",
   "execution_count": null,
   "metadata": {},
   "outputs": [],
   "source": []
  }
 ],
 "metadata": {
  "kernelspec": {
   "display_name": "Python 2",
   "language": "python",
   "name": "python2"
  },
  "language_info": {
   "codemirror_mode": {
    "name": "ipython",
    "version": 2
   },
   "file_extension": ".py",
   "mimetype": "text/x-python",
   "name": "python",
   "nbconvert_exporter": "python",
   "pygments_lexer": "ipython2",
   "version": "2.7.18"
  }
 },
 "nbformat": 4,
 "nbformat_minor": 2
}
